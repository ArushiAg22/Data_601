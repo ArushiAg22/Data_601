{
 "cells": [
  {
   "cell_type": "markdown",
   "metadata": {},
   "source": [
    "# Homework 6\n",
    "\n",
    "\n",
    "This homework is designed to process a large csv file (bigger than pandas can handle)\n",
    "https://github.com/msaricaumbc/DS_data/blob/master/bigfile.csv.zip?raw=true\n",
    "\n",
    "Write code to perform/answer the following actions:\n",
    "\n",
    "1. Print how many records processed\n",
    "1. Create a histogram of ages\n",
    "1. List the top 20 occupations \n",
    "\n",
    "Don't use Pandas or Dask"
   ]
  },
  {
   "cell_type": "code",
   "execution_count": 1,
   "metadata": {},
   "outputs": [],
   "source": [
    "# !head "
   ]
  },
  {
   "cell_type": "code",
   "execution_count": 2,
   "metadata": {},
   "outputs": [],
   "source": [
    "from urllib import request\n",
    "from zipfile import ZipFile\n",
    "\n",
    "def download(file, url):\n",
    "    res = request.urlopen(url)\n",
    "    with open(file,'wb') as fp:\n",
    "        fp.write(res.read())"
   ]
  },
  {
   "cell_type": "code",
   "execution_count": 3,
   "metadata": {},
   "outputs": [],
   "source": [
    "file_url = 'https://github.com/msaricaumbc/DS_data/blob/master/bigfile.csv.zip?raw=true'\n",
    "file_name = 'bigfile'\n",
    "\n",
    "download(file_name, file_url)"
   ]
  },
  {
   "cell_type": "code",
   "execution_count": 4,
   "metadata": {},
   "outputs": [],
   "source": [
    "def unzip(file_name, path='./'):\n",
    "    with ZipFile(file_name, 'r') as zip: \n",
    "        zip.printdir() \n",
    "        zip.extractall(path = path) "
   ]
  },
  {
   "cell_type": "code",
   "execution_count": 5,
   "metadata": {},
   "outputs": [
    {
     "name": "stdout",
     "output_type": "stream",
     "text": [
      "File Name                                             Modified             Size\n",
      "bigfile.csv                                    2022-03-07 20:08:48  18034182194\n"
     ]
    }
   ],
   "source": [
    "unzip(file_name)"
   ]
  },
  {
   "cell_type": "code",
   "execution_count": 6,
   "metadata": {},
   "outputs": [
    {
     "name": "stdout",
     "output_type": "stream",
     "text": [
      " Volume in drive C is Windows\n",
      " Volume Serial Number is 24CF-DE8E\n",
      "\n",
      " Directory of C:\\Users\\Achal Gupta\\Desktop\\Arushi\\Data601\\Data_601\\Week06\n",
      "\n",
      "03/15/2022  11:44 PM    <DIR>          .\n",
      "03/15/2022  11:44 PM    <DIR>          ..\n",
      "03/15/2022  11:14 PM    <DIR>          .ipynb_checkpoints\n",
      "03/15/2022  11:43 PM        45,635,970 bigfile\n",
      "03/15/2022  11:48 PM    18,034,182,194 bigfile.csv\n",
      "03/15/2022  11:44 PM             5,197 hw-06 - Copy.ipynb\n",
      "03/15/2022  11:44 PM            61,405 hw-06.ipynb\n",
      "03/10/2022  11:49 PM            65,861 lab_data\n",
      "03/10/2022  11:49 PM           227,653 PoliceShootingsUS.csv\n",
      "03/15/2022  02:41 PM           453,651 Untitled.ipynb\n",
      "03/15/2022  05:20 PM           128,544 Untitled1.ipynb\n",
      "03/10/2022  11:49 PM             7,015 volunteers.txt\n",
      "03/10/2022  11:53 PM            40,060 week06_lab.ipynb\n",
      "03/10/2022  09:37 PM    <DIR>          __MACOSX\n",
      "              10 File(s) 18,080,807,550 bytes\n",
      "               4 Dir(s)  141,433,851,904 bytes free\n"
     ]
    }
   ],
   "source": [
    "!dir"
   ]
  },
  {
   "cell_type": "code",
   "execution_count": 7,
   "metadata": {},
   "outputs": [],
   "source": [
    "import csv\n",
    "\n",
    "first_name = []\n",
    "last_name = []\n",
    "year = []\n",
    "age = []\n",
    "occupation = []\n",
    "phone = []\n",
    "count = 0\n",
    "\n",
    "with open('bigfile.csv', 'r') as fp:\n",
    "    line=csv.reader(fp)\n",
    "    for ele in line:\n",
    "        count = count+1\n",
    "        first_name.append(ele[0])\n",
    "        last_name.append(ele[1])\n",
    "        year.append(ele[2])\n",
    "        age.append(ele[3])\n",
    "        occupation.append(ele[4])\n",
    "        phone.append(ele[5])\n"
   ]
  },
  {
   "cell_type": "code",
   "execution_count": 8,
   "metadata": {},
   "outputs": [
    {
     "name": "stdout",
     "output_type": "stream",
     "text": [
      "600000\n"
     ]
    }
   ],
   "source": [
    "# Print how many records processed\n",
    "\n",
    "print(count)"
   ]
  },
  {
   "cell_type": "code",
   "execution_count": 18,
   "metadata": {},
   "outputs": [
    {
     "data": {
      "image/png": "[encoded data removed]",
      "text/plain": [
       "<Figure size 1080x720 with 1 Axes>"
      ]
     },
     "metadata": {
      "needs_background": "light"
     },
     "output_type": "display_data"
    }
   ],
   "source": [
    "# Create a histogram of ages\n",
    "\n",
    "import matplotlib.pyplot as plt\n",
    "\n",
    "plt.figure(figsize=(15,10))\n",
    "plt.xlabel('age')\n",
    "plt.ylabel('no. of people')\n",
    "plt.title(\"histogram of ages\")\n",
    "plt.hist(age, bins = 20, width = 5)\n",
    "plt.show()"
   ]
  },
  {
   "cell_type": "code",
   "execution_count": 13,
   "metadata": {},
   "outputs": [
    {
     "name": "stdout",
     "output_type": "stream",
     "text": [
      "Scientist- product/process development \t 1064\n",
      "Psychiatric nurse \t 1037\n",
      "Therapist- sports \t 1030\n",
      "Toxicologist \t 1024\n",
      "Social researcher \t 1021\n",
      "Environmental health practitioner \t 1020\n",
      "Naval architect \t 1019\n",
      "Teacher- primary school \t 1018\n",
      "Administrator- charities/voluntary organisations \t 1018\n",
      "Chartered loss adjuster \t 1012\n",
      "Photographer \t 1008\n",
      "Field trials officer \t 1008\n",
      "Radio producer \t 1006\n",
      "Ranger/warden \t 1004\n",
      "Electrical engineer \t 1004\n",
      "Radiographer- diagnostic \t 1004\n",
      "Acupuncturist \t 1003\n",
      "Administrator- education \t 1003\n",
      "Quantity surveyor \t 1002\n",
      "Research scientist (medical) \t 1001\n"
     ]
    }
   ],
   "source": [
    "# List the top 20 occupations\n",
    "\n",
    "from collections import Counter\n",
    "top = Counter(occupation)\n",
    "# c.most_common(20)\n",
    "top_occupations = top.most_common(20)\n",
    "# print (\"\",c.most_common(20))\n",
    "for i in range(20):\n",
    "    print(top_occupations[i][0], \"\\t\", top_occupations[i][1])"
   ]
  },
  {
   "cell_type": "code",
   "execution_count": null,
   "metadata": {},
   "outputs": [],
   "source": []
  }
 ],
 "metadata": {
  "kernelspec": {
   "display_name": "Python 3 (ipykernel)",
   "language": "python",
   "name": "python3"
  },
  "language_info": {
   "codemirror_mode": {
    "name": "ipython",
    "version": 3
   },
   "file_extension": ".py",
   "mimetype": "text/x-python",
   "name": "python",
   "nbconvert_exporter": "python",
   "pygments_lexer": "ipython3",
   "version": "3.9.7"
  },
  "toc": {
   "base_numbering": 1,
   "nav_menu": {},
   "number_sections": true,
   "sideBar": true,
   "skip_h1_title": false,
   "title_cell": "Table of Contents",
   "title_sidebar": "Contents",
   "toc_cell": false,
   "toc_position": {},
   "toc_section_display": true,
   "toc_window_display": false
  },
  "varInspector": {
   "cols": {
    "lenName": 16,
    "lenType": 16,
    "lenVar": 40
   },
   "kernels_config": {
    "python": {
     "delete_cmd_postfix": "",
     "delete_cmd_prefix": "del ",
     "library": "var_list.py",
     "varRefreshCmd": "print(var_dic_list())"
    },
    "r": {
     "delete_cmd_postfix": ") ",
     "delete_cmd_prefix": "rm(",
     "library": "var_list.r",
     "varRefreshCmd": "cat(var_dic_list()) "
    }
   },
   "types_to_exclude": [
    "module",
    "function",
    "builtin_function_or_method",
    "instance",
    "_Feature"
   ],
   "window_display": false
  }
 },
 "nbformat": 4,
 "nbformat_minor": 2
}
