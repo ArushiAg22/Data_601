{
 "cells": [
  {
   "cell_type": "markdown",
   "id": "425024c2",
   "metadata": {},
   "source": [
    "## Homework 2\n",
    "\n",
    "Please complete the functions below. These functions are for to simulate a fair and a biased die. \n",
    "\n",
    "The biased die has probabilities {0.20, 0.10, 0.15, 0.15, 0.15, 0.25}.\n",
    "\n",
    "Create 2 visualizations that shows outcomes of multiple rolls of a fair die and biased die. \n",
    "* Visualization for fair die\n",
    "* Visualization for biased die\n",
    "\n",
    "Repeat the process programatically and take the mean to create a new list. This list will be used to compare means of biased & unbiased dice. \n",
    "* Create a historgram showing means of biased & unbiased die\n",
    "\n",
    "* Use subcharts\n",
    "* All visualizations must have appropriate titles.\n",
    "* There are 3 visualization and expected format is \n",
    "```\n",
    " [V1] [V2]\n",
    " [   V3  ]\n",
    " ```"
   ]
  },
  {
   "cell_type": "code",
   "execution_count": 1,
   "id": "7078d18a",
   "metadata": {},
   "outputs": [],
   "source": [
    "import random \n",
    "import matplotlib.pyplot as plt\n",
    "\n",
    "trial_count = 500\n",
    "\n",
    "def fair_die_simulation(trials):\n",
    "    \"\"\"\n",
    "    returns an array of randomly numbers between 1 and 6. \n",
    "    \"\"\"\n",
    "    \n",
    "    options = [1,2,3,4,5,6]\n",
    "    simulations = []\n",
    "    for i in range(trials):\n",
    "        result = random.choice(options)\n",
    "        simulations.append(result)\n",
    "    return simulations"
   ]
  },
  {
   "cell_type": "code",
   "execution_count": 2,
   "id": "5a02e11e",
   "metadata": {},
   "outputs": [],
   "source": [
    "def biased_die_simuations(trials, weights=[0.25, 0.15, 0.15, 0.15, 0.15, 0.15]):\n",
    "    \"\"\"\n",
    "    returns an array of randomly numbers between 1 and 6 with the probabilty of assosiated weight. \n",
    "    for instance: for weights: [0.25, 0.15, 0.15, 0.15, 0.15, 0.15]\n",
    "    1 has 0.25 change to be selected, 2 has 0.15 chance and so on...\n",
    "    \"\"\"\n",
    "    \n",
    "    options = [1,2,3,4,5,6]\n",
    "    simulations = []\n",
    "    simulations = random.choices(options, weights= weights, k=trials)\n",
    "    return simulations"
   ]
  },
  {
   "cell_type": "code",
   "execution_count": 3,
   "id": "820b8321",
   "metadata": {},
   "outputs": [],
   "source": [
    "weights = [0.20, 0.10, 0.15, 0.15, 0.15, 0.25]\n",
    "\n",
    "biased = biased_die_simuations(trial_count, weights)\n",
    "fair = fair_die_simulation(trial_count)\n"
   ]
  },
  {
   "cell_type": "code",
   "execution_count": 32,
   "id": "1b6705b2",
   "metadata": {},
   "outputs": [
    {
     "data": {
      "image/png": "[encoded data removed]",
      "text/plain": [
       "<Figure size 432x288 with 1 Axes>"
      ]
     },
     "metadata": {
      "needs_background": "light"
     },
     "output_type": "display_data"
    }
   ],
   "source": [
    "_=plt.hist(fair)"
   ]
  },
  {
   "cell_type": "code",
   "execution_count": 5,
   "id": "cb5bcbb9",
   "metadata": {},
   "outputs": [
    {
     "data": {
      "image/png": "[encoded data removed]",
      "text/plain": [
       "<Figure size 432x288 with 1 Axes>"
      ]
     },
     "metadata": {
      "needs_background": "light"
     },
     "output_type": "display_data"
    }
   ],
   "source": [
    "_=plt.hist(biased)"
   ]
  },
  {
   "cell_type": "code",
   "execution_count": 6,
   "id": "5bb897fa",
   "metadata": {},
   "outputs": [],
   "source": [
    "unbiased_result_arr = []\n",
    "\n",
    "for x in range(100):        # running the function for fair die 100 times and storing the result in unbiased_result_arr\n",
    "      unbiased_result_arr.append(fair_die_simulation(trial_count))\n",
    "\n",
    "unbiased_sum = 0\n",
    "unbiased_mean_list = []\n",
    "\n",
    "for i in range(len(unbiased_result_arr)):     # to get the list of means of all the unbiased lists\n",
    "    for j in range(trial_count):\n",
    "          unbiased_sum = unbiased_sum + unbiased_result_arr[i][j]\n",
    "    unbiased_mean = unbiased_sum/trial_count\n",
    "    unbiased_mean_list.append(unbiased_mean)\n",
    "    unbiased_sum = 0"
   ]
  },
  {
   "cell_type": "code",
   "execution_count": 7,
   "id": "0a435fe4",
   "metadata": {},
   "outputs": [],
   "source": [
    "biased_result_arr = []\n",
    "\n",
    "for y in range(100):        # running the function for Biased die 100 times and storing the result in result_arr\n",
    "      biased_result_arr.append(biased_die_simuations(trial_count, weights))\n",
    "\n",
    "biased_sum = 0\n",
    "biased_mean_list = []\n",
    "\n",
    "for i in range(len(biased_result_arr)):        # to get the list of means of all the biased lists\n",
    "    for j in range(trial_count):\n",
    "          biased_sum = biased_sum + biased_result_arr[i][j]\n",
    "    biased_mean = biased_sum/trial_count\n",
    "    biased_mean_list.append(biased_mean)\n",
    "    biased_sum = 0"
   ]
  },
  {
   "cell_type": "code",
   "execution_count": 33,
   "id": "0aa929c0",
   "metadata": {},
   "outputs": [
    {
     "data": {
      "text/plain": [
       "<Figure size 432x288 with 0 Axes>"
      ]
     },
     "metadata": {},
     "output_type": "display_data"
    },
    {
     "data": {
      "image/png": "[encoded data removed]",
      "text/plain": [
       "<Figure size 432x288 with 3 Axes>"
      ]
     },
     "metadata": {
      "needs_background": "light"
     },
     "output_type": "display_data"
    }
   ],
   "source": [
    "plt.figure()\n",
    "fig, ax = plt.subplots(2, 2, sharey=True, constrained_layout = True)\n",
    "\n",
    "#plot 1 for Fair Dice\n",
    "ax[0][0].hist(unbiased_mean_list)\n",
    "ax[0][0].set_title('Fair Dice Mean Distribution')\n",
    "ax[0][0].set_xlabel('Mean')\n",
    "\n",
    "#plot 2 for Biased Dice\n",
    "ax[0][1].hist(biased_mean_list)\n",
    "ax[0][1].set_title('Biased Dice Mean Distribution')\n",
    "ax[0][1].set_xlabel('Mean')\n",
    "\n",
    "#plot 3 for Fair and Biased Dice\n",
    "a = plt.subplot2grid((2,2), (1,0), rowspan = 1, colspan = 2)\n",
    "a.hist(unbiased_mean_list)\n",
    "a.hist(biased_mean_list, color='black', alpha=.1)\n",
    "a.set_xlabel('Mean')\n",
    "a.set_title('Means Distribution for Fair and Biased Die')\n",
    "\n",
    "plt.show()"
   ]
  },
  {
   "cell_type": "code",
   "execution_count": null,
   "id": "f655aefe",
   "metadata": {},
   "outputs": [],
   "source": []
  }
 ],
 "metadata": {
  "kernelspec": {
   "display_name": "Python 3 (ipykernel)",
   "language": "python",
   "name": "python3"
  },
  "language_info": {
   "codemirror_mode": {
    "name": "ipython",
    "version": 3
   },
   "file_extension": ".py",
   "mimetype": "text/x-python",
   "name": "python",
   "nbconvert_exporter": "python",
   "pygments_lexer": "ipython3",
   "version": "3.9.7"
  },
  "toc": {
   "base_numbering": 1,
   "nav_menu": {},
   "number_sections": true,
   "sideBar": true,
   "skip_h1_title": false,
   "title_cell": "Table of Contents",
   "title_sidebar": "Contents",
   "toc_cell": false,
   "toc_position": {},
   "toc_section_display": true,
   "toc_window_display": false
  }
 },
 "nbformat": 4,
 "nbformat_minor": 5
}
