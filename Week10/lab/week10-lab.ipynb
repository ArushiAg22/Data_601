{
 "cells": [
  {
   "cell_type": "markdown",
   "id": "72fa4223",
   "metadata": {},
   "source": [
    "# Week10 Lab\n",
    "\n",
    "Write a `ArrayList` class for a basic replacement of list type. \n",
    "It should have the following methods.\n",
    "When you add 2 instances of this type, it should add side by side like pandas Series\n",
    "\n",
    "* it may get an array in the constructor otherwise it will be an empty array\n",
    "* when printed, it should show the numbers as comma separated\n",
    "* append\n",
    "* clear\n",
    "* `__getitem__`\n",
    "* `__add__`\n",
    "* `__len__`\n",
    "* `__repr__`"
   ]
  },
  {
   "cell_type": "code",
   "execution_count": 1,
   "id": "b05b5884",
   "metadata": {},
   "outputs": [
    {
     "data": {
      "text/plain": [
       "[1, 2, 1, 2]"
      ]
     },
     "execution_count": 1,
     "metadata": {},
     "output_type": "execute_result"
    }
   ],
   "source": [
    "[1,2] + [1,2]\n"
   ]
  },
  {
   "cell_type": "code",
   "execution_count": 2,
   "id": "5be83ad6",
   "metadata": {},
   "outputs": [],
   "source": [
    "class ArrayList:\n",
    "    def __init__(self, arr=[]):\n",
    "        self.array=arr\n",
    "        \n",
    "    def __add__(self, other):\n",
    "        if len(self.array) != len(other.array):\n",
    "            raise ValueError('Length is different')\n",
    "        new_array = ArrayList(arr=[])\n",
    "        for x,y in zip(self.array,other.array):\n",
    "            new_array.append(x+y)\n",
    "        return new_array\n",
    "             \n",
    "    def __len__(self):\n",
    "        return len(self.array)\n",
    "         \n",
    "    def __repr__(self):\n",
    "        return ','.join([str(_) for _ in self.array])       \n",
    "\n",
    "    def clear(self):\n",
    "        self.array.clear()\n",
    "        \n",
    "    def append(self, num):\n",
    "        self.array.append(num)\n",
    "    \n",
    "    def __getitem__(self, index):\n",
    "        return self.array[index]\n",
    "        "
   ]
  },
  {
   "cell_type": "code",
   "execution_count": 3,
   "id": "b35e9215",
   "metadata": {},
   "outputs": [
    {
     "data": {
      "text/plain": [
       "1,2,3"
      ]
     },
     "execution_count": 3,
     "metadata": {},
     "output_type": "execute_result"
    }
   ],
   "source": [
    "s1 = ArrayList([1,2])\n",
    "s1.append(3)\n",
    "s1 # should show 1,2,3"
   ]
  },
  {
   "cell_type": "code",
   "execution_count": 4,
   "id": "cf2e6715",
   "metadata": {},
   "outputs": [
    {
     "data": {
      "text/plain": [
       "3"
      ]
     },
     "execution_count": 4,
     "metadata": {},
     "output_type": "execute_result"
    }
   ],
   "source": [
    "s1 = ArrayList([1,2,3])\n",
    "\n",
    "len(s1) # should show 3"
   ]
  },
  {
   "cell_type": "code",
   "execution_count": 5,
   "id": "ac3f84f1",
   "metadata": {},
   "outputs": [
    {
     "data": {
      "text/plain": [
       "1"
      ]
     },
     "execution_count": 5,
     "metadata": {},
     "output_type": "execute_result"
    }
   ],
   "source": [
    "s1 = ArrayList([1,2,3])\n",
    "s1[0] # should show 1"
   ]
  },
  {
   "cell_type": "code",
   "execution_count": 6,
   "id": "f8404ac9",
   "metadata": {},
   "outputs": [
    {
     "data": {
      "text/plain": [
       "0"
      ]
     },
     "execution_count": 6,
     "metadata": {},
     "output_type": "execute_result"
    }
   ],
   "source": [
    "s1 = ArrayList([1,2,3])\n",
    "s1.clear()\n",
    "len(s1) # should show 0"
   ]
  },
  {
   "cell_type": "code",
   "execution_count": 7,
   "id": "39c83d17",
   "metadata": {},
   "outputs": [
    {
     "data": {
      "text/plain": [
       "3,5,7"
      ]
     },
     "execution_count": 7,
     "metadata": {},
     "output_type": "execute_result"
    }
   ],
   "source": [
    "s1 = ArrayList([1,2,3])\n",
    "s2 = ArrayList([2,3,4])\n",
    "\n",
    "s1 + s2 # should show 3,5,7"
   ]
  },
  {
   "cell_type": "code",
   "execution_count": 8,
   "id": "9a916fb4",
   "metadata": {
    "scrolled": true
   },
   "outputs": [
    {
     "name": "stdout",
     "output_type": "stream",
     "text": [
      "1,2,3\n"
     ]
    }
   ],
   "source": [
    "s1 = ArrayList([1,2,3])\n",
    "print(s1)"
   ]
  },
  {
   "cell_type": "code",
   "execution_count": null,
   "id": "d825cb3d",
   "metadata": {},
   "outputs": [],
   "source": []
  }
 ],
 "metadata": {
  "kernelspec": {
   "display_name": "Python 3 (ipykernel)",
   "language": "python",
   "name": "python3"
  },
  "language_info": {
   "codemirror_mode": {
    "name": "ipython",
    "version": 3
   },
   "file_extension": ".py",
   "mimetype": "text/x-python",
   "name": "python",
   "nbconvert_exporter": "python",
   "pygments_lexer": "ipython3",
   "version": "3.9.7"
  },
  "toc": {
   "base_numbering": 1,
   "nav_menu": {},
   "number_sections": true,
   "sideBar": true,
   "skip_h1_title": false,
   "title_cell": "Table of Contents",
   "title_sidebar": "Contents",
   "toc_cell": false,
   "toc_position": {},
   "toc_section_display": true,
   "toc_window_display": false
  }
 },
 "nbformat": 4,
 "nbformat_minor": 5
}
